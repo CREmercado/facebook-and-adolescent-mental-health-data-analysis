{
 "cells": [
  {
   "cell_type": "code",
   "execution_count": 1,
   "metadata": {},
   "outputs": [],
   "source": [
    "#Cración de la sesión de Spark\n",
    "\n",
    "from pyspark.sql import SparkSession\n",
    "\n",
    "spark = SparkSession \\\n",
    "    .builder \\\n",
    "    .appName(\"Python Spark SQL basic example\") \\\n",
    "    .config(\"spark.some.config.option\", \"some-value\") \\\n",
    "    .getOrCreate()"
   ]
  },
  {
   "cell_type": "code",
   "execution_count": 44,
   "metadata": {},
   "outputs": [],
   "source": [
    "#CARGA DE LOS ARCHIVOS\n",
    "\n",
    "df = spark.read.options(inferSchema=True, multiLine=True, delimiter=\",\", header=True).csv(\"/Users/christian/Desktop/Trabajo Big Data/Copia de Pares de Palabras.csv\")"
   ]
  },
  {
   "cell_type": "code",
   "execution_count": 76,
   "metadata": {},
   "outputs": [
    {
     "data": {
      "text/html": [
       "<div>\n",
       "<style scoped>\n",
       "    .dataframe tbody tr th:only-of-type {\n",
       "        vertical-align: middle;\n",
       "    }\n",
       "\n",
       "    .dataframe tbody tr th {\n",
       "        vertical-align: top;\n",
       "    }\n",
       "\n",
       "    .dataframe thead th {\n",
       "        text-align: right;\n",
       "    }\n",
       "</style>\n",
       "<table border=\"1\" class=\"dataframe\">\n",
       "  <thead>\n",
       "    <tr style=\"text-align: right;\">\n",
       "      <th></th>\n",
       "      <th>FrEstC</th>\n",
       "      <th>IDP</th>\n",
       "      <th>IDI</th>\n",
       "      <th>Ed</th>\n",
       "      <th>Esc</th>\n",
       "      <th>Gra</th>\n",
       "      <th>ApEs</th>\n",
       "      <th>FrEs</th>\n",
       "      <th>StEs</th>\n",
       "      <th>LEs</th>\n",
       "      <th>ApGen</th>\n",
       "      <th>FrGen</th>\n",
       "      <th>StGen</th>\n",
       "      <th>LGen</th>\n",
       "      <th>Face</th>\n",
       "      <th>FrFace</th>\n",
       "      <th>SF</th>\n",
       "      <th>LF</th>\n",
       "      <th>SFBool</th>\n",
       "    </tr>\n",
       "  </thead>\n",
       "  <tbody>\n",
       "    <tr>\n",
       "      <th>count</th>\n",
       "      <td>153.000000</td>\n",
       "      <td>153.000000</td>\n",
       "      <td>153.000000</td>\n",
       "      <td>153.000000</td>\n",
       "      <td>153.000000</td>\n",
       "      <td>153.000000</td>\n",
       "      <td>153.000000</td>\n",
       "      <td>153.000000</td>\n",
       "      <td>153.000000</td>\n",
       "      <td>153.000000</td>\n",
       "      <td>153.000000</td>\n",
       "      <td>153.000000</td>\n",
       "      <td>153.000000</td>\n",
       "      <td>153.000000</td>\n",
       "      <td>153.000000</td>\n",
       "      <td>153.000000</td>\n",
       "      <td>153.000000</td>\n",
       "      <td>153.000000</td>\n",
       "      <td>153.000000</td>\n",
       "    </tr>\n",
       "    <tr>\n",
       "      <th>mean</th>\n",
       "      <td>7.137255</td>\n",
       "      <td>9.000000</td>\n",
       "      <td>251.150327</td>\n",
       "      <td>13.947712</td>\n",
       "      <td>6.666667</td>\n",
       "      <td>2.666667</td>\n",
       "      <td>0.183007</td>\n",
       "      <td>0.405229</td>\n",
       "      <td>0.002109</td>\n",
       "      <td>2479.137255</td>\n",
       "      <td>0.490196</td>\n",
       "      <td>5.862745</td>\n",
       "      <td>0.032448</td>\n",
       "      <td>1970.307190</td>\n",
       "      <td>0.509804</td>\n",
       "      <td>6.267974</td>\n",
       "      <td>0.023626</td>\n",
       "      <td>2407.666667</td>\n",
       "      <td>1.023626</td>\n",
       "    </tr>\n",
       "    <tr>\n",
       "      <th>std</th>\n",
       "      <td>3.967066</td>\n",
       "      <td>4.915068</td>\n",
       "      <td>187.038899</td>\n",
       "      <td>0.705158</td>\n",
       "      <td>1.891811</td>\n",
       "      <td>0.472953</td>\n",
       "      <td>0.387942</td>\n",
       "      <td>1.096873</td>\n",
       "      <td>0.116890</td>\n",
       "      <td>9253.799822</td>\n",
       "      <td>0.501546</td>\n",
       "      <td>14.906754</td>\n",
       "      <td>0.119126</td>\n",
       "      <td>8873.017305</td>\n",
       "      <td>0.501546</td>\n",
       "      <td>15.423413</td>\n",
       "      <td>0.103745</td>\n",
       "      <td>8803.154742</td>\n",
       "      <td>0.103745</td>\n",
       "    </tr>\n",
       "    <tr>\n",
       "      <th>min</th>\n",
       "      <td>2.000000</td>\n",
       "      <td>1.000000</td>\n",
       "      <td>3.000000</td>\n",
       "      <td>13.000000</td>\n",
       "      <td>4.000000</td>\n",
       "      <td>2.000000</td>\n",
       "      <td>0.000000</td>\n",
       "      <td>0.000000</td>\n",
       "      <td>-0.800000</td>\n",
       "      <td>0.000000</td>\n",
       "      <td>0.000000</td>\n",
       "      <td>0.000000</td>\n",
       "      <td>-0.116667</td>\n",
       "      <td>0.000000</td>\n",
       "      <td>0.000000</td>\n",
       "      <td>0.000000</td>\n",
       "      <td>-0.400000</td>\n",
       "      <td>0.000000</td>\n",
       "      <td>0.600000</td>\n",
       "    </tr>\n",
       "    <tr>\n",
       "      <th>25%</th>\n",
       "      <td>4.000000</td>\n",
       "      <td>5.000000</td>\n",
       "      <td>71.000000</td>\n",
       "      <td>13.000000</td>\n",
       "      <td>4.000000</td>\n",
       "      <td>2.000000</td>\n",
       "      <td>0.000000</td>\n",
       "      <td>0.000000</td>\n",
       "      <td>0.000000</td>\n",
       "      <td>0.000000</td>\n",
       "      <td>0.000000</td>\n",
       "      <td>0.000000</td>\n",
       "      <td>0.000000</td>\n",
       "      <td>0.000000</td>\n",
       "      <td>0.000000</td>\n",
       "      <td>0.000000</td>\n",
       "      <td>0.000000</td>\n",
       "      <td>0.000000</td>\n",
       "      <td>1.000000</td>\n",
       "    </tr>\n",
       "    <tr>\n",
       "      <th>50%</th>\n",
       "      <td>6.000000</td>\n",
       "      <td>9.000000</td>\n",
       "      <td>242.000000</td>\n",
       "      <td>14.000000</td>\n",
       "      <td>8.000000</td>\n",
       "      <td>3.000000</td>\n",
       "      <td>0.000000</td>\n",
       "      <td>0.000000</td>\n",
       "      <td>0.000000</td>\n",
       "      <td>0.000000</td>\n",
       "      <td>0.000000</td>\n",
       "      <td>0.000000</td>\n",
       "      <td>0.000000</td>\n",
       "      <td>0.000000</td>\n",
       "      <td>1.000000</td>\n",
       "      <td>1.000000</td>\n",
       "      <td>0.000000</td>\n",
       "      <td>8.000000</td>\n",
       "      <td>1.000000</td>\n",
       "    </tr>\n",
       "    <tr>\n",
       "      <th>75%</th>\n",
       "      <td>8.000000</td>\n",
       "      <td>13.000000</td>\n",
       "      <td>388.000000</td>\n",
       "      <td>14.000000</td>\n",
       "      <td>8.000000</td>\n",
       "      <td>3.000000</td>\n",
       "      <td>0.000000</td>\n",
       "      <td>0.000000</td>\n",
       "      <td>0.000000</td>\n",
       "      <td>0.000000</td>\n",
       "      <td>1.000000</td>\n",
       "      <td>4.000000</td>\n",
       "      <td>0.001429</td>\n",
       "      <td>226.000000</td>\n",
       "      <td>1.000000</td>\n",
       "      <td>4.000000</td>\n",
       "      <td>0.005471</td>\n",
       "      <td>486.000000</td>\n",
       "      <td>1.005471</td>\n",
       "    </tr>\n",
       "    <tr>\n",
       "      <th>max</th>\n",
       "      <td>22.000000</td>\n",
       "      <td>17.000000</td>\n",
       "      <td>605.000000</td>\n",
       "      <td>15.000000</td>\n",
       "      <td>8.000000</td>\n",
       "      <td>3.000000</td>\n",
       "      <td>1.000000</td>\n",
       "      <td>5.000000</td>\n",
       "      <td>0.800000</td>\n",
       "      <td>78757.000000</td>\n",
       "      <td>1.000000</td>\n",
       "      <td>81.000000</td>\n",
       "      <td>0.700000</td>\n",
       "      <td>78757.000000</td>\n",
       "      <td>1.000000</td>\n",
       "      <td>81.000000</td>\n",
       "      <td>0.500000</td>\n",
       "      <td>78757.000000</td>\n",
       "      <td>1.500000</td>\n",
       "    </tr>\n",
       "  </tbody>\n",
       "</table>\n",
       "</div>"
      ],
      "text/plain": [
       "           FrEstC         IDP         IDI          Ed         Esc         Gra  \\\n",
       "count  153.000000  153.000000  153.000000  153.000000  153.000000  153.000000   \n",
       "mean     7.137255    9.000000  251.150327   13.947712    6.666667    2.666667   \n",
       "std      3.967066    4.915068  187.038899    0.705158    1.891811    0.472953   \n",
       "min      2.000000    1.000000    3.000000   13.000000    4.000000    2.000000   \n",
       "25%      4.000000    5.000000   71.000000   13.000000    4.000000    2.000000   \n",
       "50%      6.000000    9.000000  242.000000   14.000000    8.000000    3.000000   \n",
       "75%      8.000000   13.000000  388.000000   14.000000    8.000000    3.000000   \n",
       "max     22.000000   17.000000  605.000000   15.000000    8.000000    3.000000   \n",
       "\n",
       "             ApEs        FrEs        StEs           LEs       ApGen  \\\n",
       "count  153.000000  153.000000  153.000000    153.000000  153.000000   \n",
       "mean     0.183007    0.405229    0.002109   2479.137255    0.490196   \n",
       "std      0.387942    1.096873    0.116890   9253.799822    0.501546   \n",
       "min      0.000000    0.000000   -0.800000      0.000000    0.000000   \n",
       "25%      0.000000    0.000000    0.000000      0.000000    0.000000   \n",
       "50%      0.000000    0.000000    0.000000      0.000000    0.000000   \n",
       "75%      0.000000    0.000000    0.000000      0.000000    1.000000   \n",
       "max      1.000000    5.000000    0.800000  78757.000000    1.000000   \n",
       "\n",
       "            FrGen       StGen          LGen        Face      FrFace  \\\n",
       "count  153.000000  153.000000    153.000000  153.000000  153.000000   \n",
       "mean     5.862745    0.032448   1970.307190    0.509804    6.267974   \n",
       "std     14.906754    0.119126   8873.017305    0.501546   15.423413   \n",
       "min      0.000000   -0.116667      0.000000    0.000000    0.000000   \n",
       "25%      0.000000    0.000000      0.000000    0.000000    0.000000   \n",
       "50%      0.000000    0.000000      0.000000    1.000000    1.000000   \n",
       "75%      4.000000    0.001429    226.000000    1.000000    4.000000   \n",
       "max     81.000000    0.700000  78757.000000    1.000000   81.000000   \n",
       "\n",
       "               SF            LF      SFBool  \n",
       "count  153.000000    153.000000  153.000000  \n",
       "mean     0.023626   2407.666667    1.023626  \n",
       "std      0.103745   8803.154742    0.103745  \n",
       "min     -0.400000      0.000000    0.600000  \n",
       "25%      0.000000      0.000000    1.000000  \n",
       "50%      0.000000      8.000000    1.000000  \n",
       "75%      0.005471    486.000000    1.005471  \n",
       "max      0.500000  78757.000000    1.500000  "
      ]
     },
     "execution_count": 76,
     "metadata": {},
     "output_type": "execute_result"
    }
   ],
   "source": [
    "#DESCRIPCIÓN BD\n",
    "\n",
    "import pandas as pd\n",
    "pddf = pd.read_csv(\"/Users/christian/Desktop/Trabajo Big Data/Copia de Pares de Palabras.csv\")\n",
    "pddf.describe()"
   ]
  },
  {
   "cell_type": "code",
   "execution_count": 4,
   "metadata": {},
   "outputs": [],
   "source": [
    "import pyspark.sql.functions as sql_func\n",
    "from pyspark.sql.types import *\n",
    "from pyspark.ml.recommendation import ALS, ALSModel\n",
    "from pyspark.context import SparkContext\n",
    "from pyspark.sql.session import SparkSession\n",
    "from pyspark.mllib.evaluation import RegressionMetrics, RankingMetrics\n",
    "from pyspark.ml.evaluation import RegressionEvaluator"
   ]
  },
  {
   "cell_type": "code",
   "execution_count": null,
   "metadata": {},
   "outputs": [],
   "source": [
    "'Modelo de Clasificación según Sentimientos en base a la Edad, por Palabra'"
   ]
  },
  {
   "cell_type": "code",
   "execution_count": 45,
   "metadata": {},
   "outputs": [],
   "source": [
    "ratings = (df\n",
    "    .select(\n",
    "        'Ed',\n",
    "        'IDP',\n",
    "        'SFBool',\n",
    "    )\n",
    ").cache()\n",
    "\n",
    "(training, test) = ratings.randomSplit([0.8, 0.2])"
   ]
  },
  {
   "cell_type": "code",
   "execution_count": 46,
   "metadata": {},
   "outputs": [
    {
     "name": "stdout",
     "output_type": "stream",
     "text": [
      "Root-mean-square error = 0.18567336919062224\n"
     ]
    }
   ],
   "source": [
    "# Build the recommendation model using ALS on the training data\n",
    "# Note we set cold start strategy to 'drop' to ensure we don't get NaN evaluation metrics\n",
    "als = ALS(rank=50, maxIter=2, regParam=0.01, \n",
    "          userCol=\"Ed\", itemCol=\"IDP\", ratingCol=\"SFBool\",\n",
    "          coldStartStrategy=\"drop\",\n",
    "          implicitPrefs=False)\n",
    "model = als.fit(training)\n",
    "\n",
    "# Evaluate the model by computing the RMSE on the test data\n",
    "predictions = model.transform(test)\n",
    "evaluator = RegressionEvaluator(metricName=\"rmse\", labelCol=\"SFBool\",\n",
    "                                predictionCol=\"prediction\")\n",
    "\n",
    "rmse = evaluator.evaluate(predictions)\n",
    "print(\"Root-mean-square error = \" + str(rmse))"
   ]
  },
  {
   "cell_type": "code",
   "execution_count": 47,
   "metadata": {},
   "outputs": [
    {
     "data": {
      "text/plain": [
       "17"
      ]
     },
     "execution_count": 47,
     "metadata": {},
     "output_type": "execute_result"
    }
   ],
   "source": [
    "# Generate top 10 movie recommendations for each user\n",
    "userRecs = model.recommendForAllUsers(10)\n",
    "userRecs.count()\n",
    "# Generate top 10 user recommendations for each movie\n",
    "palRecs = model.recommendForAllItems(10)\n",
    "palRecs.count()"
   ]
  },
  {
   "cell_type": "code",
   "execution_count": 48,
   "metadata": {},
   "outputs": [
    {
     "name": "stdout",
     "output_type": "stream",
     "text": [
      "+---+---------------------------------------------------------------------------------------------------------------------------------------------------------------------+\n",
      "|Ed |recommendations                                                                                                                                                      |\n",
      "+---+---------------------------------------------------------------------------------------------------------------------------------------------------------------------+\n",
      "|13 |[[3, 1.2174941], [13, 1.0329115], [8, 1.0271486], [12, 1.0158], [14, 1.0154381], [10, 1.0094692], [9, 1.0085348], [7, 1.0004789], [17, 0.9995919], [2, 0.9875559]]   |\n",
      "|14 |[[3, 1.2101064], [2, 1.1073079], [5, 1.0955043], [8, 1.0680277], [11, 1.0518379], [13, 1.0432236], [14, 1.0290325], [9, 1.016835], [10, 1.0098805], [7, 1.0050422]]  |\n",
      "|15 |[[3, 1.1790522], [2, 1.1694136], [14, 1.1562577], [13, 1.063871], [8, 1.0471141], [9, 1.0341772], [5, 1.0224502], [12, 0.9813835], [11, 0.98052967], [10, 0.9744287]]|\n",
      "+---+---------------------------------------------------------------------------------------------------------------------------------------------------------------------+\n",
      "\n",
      "+---+-----------------------------------------------------+\n",
      "|IDP|recommendations                                      |\n",
      "+---+-----------------------------------------------------+\n",
      "|1  |[[13, 0.9827601], [14, 0.96330386], [15, 0.51184386]]|\n",
      "|2  |[[15, 1.1694136], [14, 1.1073079], [13, 0.9875559]]  |\n",
      "|3  |[[13, 1.2174941], [14, 1.2101064], [15, 1.1790522]]  |\n",
      "|4  |[[15, 0.93253], [14, 0.87246495], [13, 0.66443586]]  |\n",
      "|5  |[[14, 1.0955043], [15, 1.0224502], [13, 0.9729717]]  |\n",
      "|6  |[[14, 1.0031832], [13, 0.9855945], [15, 0.96002334]] |\n",
      "|7  |[[14, 1.0050422], [13, 1.0004789], [15, 0.9507784]]  |\n",
      "|8  |[[14, 1.0680277], [15, 1.0471141], [13, 1.0271486]]  |\n",
      "|9  |[[15, 1.0341772], [14, 1.016835], [13, 1.0085348]]   |\n",
      "|10 |[[14, 1.0098805], [13, 1.0094692], [15, 0.9744287]]  |\n",
      "|11 |[[14, 1.0518379], [15, 0.98052967], [13, 0.9684965]] |\n",
      "|12 |[[13, 1.0158], [15, 0.9813835], [14, 0.9804744]]     |\n",
      "|13 |[[15, 1.063871], [14, 1.0432236], [13, 1.0329115]]   |\n",
      "|14 |[[15, 1.1562577], [14, 1.0290325], [13, 1.0154381]]  |\n",
      "|15 |[[15, 0.9660918], [14, 0.8883021], [13, 0.55015075]] |\n",
      "|16 |[[13, 0.9812413], [14, 0.9574519], [15, 0.50830495]] |\n",
      "|17 |[[13, 0.9995919], [14, 0.99412256], [15, 0.970558]]  |\n",
      "+---+-----------------------------------------------------+\n",
      "\n"
     ]
    }
   ],
   "source": [
    "userRecs.orderBy('Ed').show(truncate = False)\n",
    "palRecs.orderBy('IDP').show(truncate = False)"
   ]
  },
  {
   "cell_type": "code",
   "execution_count": null,
   "metadata": {},
   "outputs": [],
   "source": [
    "'Modelo de Clasificación según sentimientos por Escuela, en base a palabras'"
   ]
  },
  {
   "cell_type": "code",
   "execution_count": 49,
   "metadata": {},
   "outputs": [],
   "source": [
    "ratings = (df\n",
    "    .select(\n",
    "        'Esc',\n",
    "        'IDP',\n",
    "        'SFBool',\n",
    "    )\n",
    ").cache()\n",
    "\n",
    "(training, test) = ratings.randomSplit([0.8, 0.2])"
   ]
  },
  {
   "cell_type": "code",
   "execution_count": 55,
   "metadata": {},
   "outputs": [
    {
     "name": "stdout",
     "output_type": "stream",
     "text": [
      "Root-mean-square error = 0.44929300514533516\n"
     ]
    }
   ],
   "source": [
    "# Build the recommendation model using ALS on the training data\n",
    "# Note we set cold start strategy to 'drop' to ensure we don't get NaN evaluation metrics\n",
    "als = ALS(rank=10, maxIter=2, regParam=0.01, \n",
    "          userCol=\"Esc\", itemCol=\"IDP\", ratingCol=\"SFBool\",\n",
    "          coldStartStrategy=\"drop\",\n",
    "          implicitPrefs=True)\n",
    "model = als.fit(training)\n",
    "\n",
    "# Evaluate the model by computing the RMSE on the test data\n",
    "predictions = model.transform(test)\n",
    "evaluator = RegressionEvaluator(metricName=\"rmse\", labelCol=\"SFBool\",\n",
    "                                predictionCol=\"prediction\")\n",
    "\n",
    "rmse = evaluator.evaluate(predictions)\n",
    "print(\"Root-mean-square error = \" + str(rmse))"
   ]
  },
  {
   "cell_type": "code",
   "execution_count": 56,
   "metadata": {},
   "outputs": [
    {
     "data": {
      "text/plain": [
       "17"
      ]
     },
     "execution_count": 56,
     "metadata": {},
     "output_type": "execute_result"
    }
   ],
   "source": [
    "# Generate top 10 movie recommendations for each user\n",
    "userRecs = model.recommendForAllUsers(10)\n",
    "userRecs.count()\n",
    "# Generate top 10 user recommendations for each movie\n",
    "palRecs = model.recommendForAllItems(10)\n",
    "palRecs.count()"
   ]
  },
  {
   "cell_type": "code",
   "execution_count": 57,
   "metadata": {},
   "outputs": [
    {
     "name": "stdout",
     "output_type": "stream",
     "text": [
      "+---+---------------------------------------------------------------------------------------------------------------------------------------------------------------------+\n",
      "|Esc|recommendations                                                                                                                                                      |\n",
      "+---+---------------------------------------------------------------------------------------------------------------------------------------------------------------------+\n",
      "|4  |[[12, 1.4931872], [15, 1.4914114], [9, 1.4881017], [10, 1.487039], [6, 1.487039], [14, 1.4865375], [11, 1.469443], [17, 1.3382381], [1, 1.3346843], [5, 1.3308353]]  |\n",
      "|8  |[[4, 1.7350956], [9, 1.7090315], [17, 1.7089168], [1, 1.7031779], [15, 1.6899009], [14, 1.6887505], [10, 1.6682867], [6, 1.6682867], [12, 1.6640316], [5, 1.6554633]]|\n",
      "+---+---------------------------------------------------------------------------------------------------------------------------------------------------------------------+\n",
      "\n",
      "+---+--------------------------------+\n",
      "|IDP|recommendations                 |\n",
      "+---+--------------------------------+\n",
      "|1  |[[8, 1.7031779], [4, 1.3346843]]|\n",
      "|2  |[[8, 1.6407115], [4, 1.0304691]]|\n",
      "|3  |[[8, 1.5538759], [4, 1.285498]] |\n",
      "|4  |[[8, 1.7350956], [4, 1.0377817]]|\n",
      "|5  |[[8, 1.6554633], [4, 1.3308353]]|\n",
      "|6  |[[8, 1.6682867], [4, 1.487039]] |\n",
      "|7  |[[8, 1.6478479], [4, 1.0305914]]|\n",
      "|8  |[[8, 1.496138], [4, 1.3208938]] |\n",
      "|9  |[[8, 1.7090315], [4, 1.4881017]]|\n",
      "|10 |[[8, 1.6682867], [4, 1.487039]] |\n",
      "|11 |[[8, 1.5848777], [4, 1.469443]] |\n",
      "|12 |[[8, 1.6640316], [4, 1.4931872]]|\n",
      "|13 |[[8, 1.5837171], [4, 1.3219585]]|\n",
      "|14 |[[8, 1.6887505], [4, 1.4865375]]|\n",
      "|15 |[[8, 1.6899009], [4, 1.4914114]]|\n",
      "|16 |[[8, 1.648694], [4, 1.0306621]] |\n",
      "|17 |[[8, 1.7089168], [4, 1.3382381]]|\n",
      "+---+--------------------------------+\n",
      "\n"
     ]
    }
   ],
   "source": [
    "userRecs.orderBy('Esc').show(truncate = False)\n",
    "palRecs.orderBy('IDP').show(truncate = False)"
   ]
  },
  {
   "cell_type": "code",
   "execution_count": 58,
   "metadata": {},
   "outputs": [],
   "source": [
    "ratings = (df\n",
    "    .select(\n",
    "        'Esc',\n",
    "        'IDP',\n",
    "        'SFBool',\n",
    "    )\n",
    ").filter('Gra = 3').cache()\n",
    "\n",
    "(training, test) = ratings.randomSplit([0.8, 0.2])"
   ]
  },
  {
   "cell_type": "code",
   "execution_count": 64,
   "metadata": {},
   "outputs": [
    {
     "name": "stdout",
     "output_type": "stream",
     "text": [
      "Root-mean-square error = 0.2744906229473031\n"
     ]
    }
   ],
   "source": [
    "# Build the recommendation model using ALS on the training data\n",
    "# Note we set cold start strategy to 'drop' to ensure we don't get NaN evaluation metrics\n",
    "als = ALS(rank=10, maxIter=2, regParam=0.01, \n",
    "          userCol=\"Esc\", itemCol=\"IDP\", ratingCol=\"SFBool\",\n",
    "          coldStartStrategy=\"drop\",\n",
    "          implicitPrefs=True)\n",
    "model = als.fit(training)\n",
    "\n",
    "# Evaluate the model by computing the RMSE on the test data\n",
    "predictions = model.transform(test)\n",
    "evaluator = RegressionEvaluator(metricName=\"rmse\", labelCol=\"SFBool\",\n",
    "                                predictionCol=\"prediction\")\n",
    "\n",
    "rmse = evaluator.evaluate(predictions)\n",
    "print(\"Root-mean-square error = \" + str(rmse))"
   ]
  },
  {
   "cell_type": "code",
   "execution_count": 65,
   "metadata": {},
   "outputs": [
    {
     "data": {
      "text/plain": [
       "17"
      ]
     },
     "execution_count": 65,
     "metadata": {},
     "output_type": "execute_result"
    }
   ],
   "source": [
    "# Generate top 10 movie recommendations for each user\n",
    "userRecs = model.recommendForAllUsers(10)\n",
    "userRecs.count()\n",
    "# Generate top 10 user recommendations for each movie\n",
    "palRecs = model.recommendForAllItems(10)\n",
    "palRecs.count()"
   ]
  },
  {
   "cell_type": "code",
   "execution_count": 66,
   "metadata": {},
   "outputs": [
    {
     "name": "stdout",
     "output_type": "stream",
     "text": [
      "+---+---------------------------------------------------------------------------------------------------------------------------------------------------------------------+\n",
      "|Esc|recommendations                                                                                                                                                      |\n",
      "+---+---------------------------------------------------------------------------------------------------------------------------------------------------------------------+\n",
      "|4  |[[4, 1.5390342], [14, 1.4925904], [16, 1.488037], [5, 1.488037], [13, 1.484934], [17, 1.4781239], [15, 1.3369218], [10, 1.336067], [7, 1.336067], [1, 1.3329141]]    |\n",
      "|8  |[[15, 1.5064856], [10, 1.4916141], [7, 1.4916141], [13, 1.4885006], [1, 1.4857652], [6, 1.4779576], [11, 1.473465], [14, 1.4680126], [4, 1.3422024], [16, 1.3392671]]|\n",
      "+---+---------------------------------------------------------------------------------------------------------------------------------------------------------------------+\n",
      "\n",
      "+---+--------------------------------+\n",
      "|IDP|recommendations                 |\n",
      "+---+--------------------------------+\n",
      "|1  |[[8, 1.4857652], [4, 1.3329141]]|\n",
      "|2  |[[8, 1.3192573], [4, 1.0146084]]|\n",
      "|3  |[[4, 1.2846773], [8, 1.2710919]]|\n",
      "|4  |[[4, 1.5390342], [8, 1.3422024]]|\n",
      "|5  |[[4, 1.488037], [8, 1.3392671]] |\n",
      "|6  |[[8, 1.4779576], [4, 1.0219681]]|\n",
      "|7  |[[8, 1.4916141], [4, 1.336067]] |\n",
      "|8  |[[8, 1.3326278], [4, 1.3251593]]|\n",
      "|9  |[[4, 1.3293953], [8, 1.3273387]]|\n",
      "|10 |[[8, 1.4916141], [4, 1.336067]] |\n",
      "|11 |[[8, 1.473465], [4, 1.0218112]] |\n",
      "|12 |[[8, 1.3325586], [4, 1.3238974]]|\n",
      "|13 |[[8, 1.4885006], [4, 1.484934]] |\n",
      "|14 |[[4, 1.4925904], [8, 1.4680126]]|\n",
      "|15 |[[8, 1.5064856], [4, 1.3369218]]|\n",
      "|16 |[[4, 1.488037], [8, 1.3392671]] |\n",
      "|17 |[[4, 1.4781239], [8, 1.0245212]]|\n",
      "+---+--------------------------------+\n",
      "\n"
     ]
    }
   ],
   "source": [
    "userRecs.orderBy('Esc').show(truncate = False)\n",
    "palRecs.orderBy('IDP').show(truncate = False)"
   ]
  },
  {
   "cell_type": "code",
   "execution_count": 67,
   "metadata": {},
   "outputs": [],
   "source": [
    "ratings = (df\n",
    "    .select(\n",
    "        'Esc',\n",
    "        'IDP',\n",
    "        'SFBool',\n",
    "    )\n",
    ").filter('Esc = 4 OR (Esc = 8 AND Gra = 2)').cache()\n",
    "\n",
    "(training, test) = ratings.randomSplit([0.8, 0.2])"
   ]
  },
  {
   "cell_type": "code",
   "execution_count": 73,
   "metadata": {},
   "outputs": [
    {
     "name": "stdout",
     "output_type": "stream",
     "text": [
      "Root-mean-square error = 0.429921465258756\n"
     ]
    }
   ],
   "source": [
    "# Build the recommendation model using ALS on the training data\n",
    "# Note we set cold start strategy to 'drop' to ensure we don't get NaN evaluation metrics\n",
    "als = ALS(rank=10, maxIter=2, regParam=0.01, \n",
    "          userCol=\"Esc\", itemCol=\"IDP\", ratingCol=\"SFBool\",\n",
    "          coldStartStrategy=\"drop\",\n",
    "          implicitPrefs=True)\n",
    "model = als.fit(training)\n",
    "\n",
    "# Evaluate the model by computing the RMSE on the test data\n",
    "predictions = model.transform(test)\n",
    "evaluator = RegressionEvaluator(metricName=\"rmse\", labelCol=\"SFBool\",\n",
    "                                predictionCol=\"prediction\")\n",
    "\n",
    "rmse = evaluator.evaluate(predictions)\n",
    "print(\"Root-mean-square error = \" + str(rmse))"
   ]
  },
  {
   "cell_type": "code",
   "execution_count": 74,
   "metadata": {},
   "outputs": [
    {
     "data": {
      "text/plain": [
       "17"
      ]
     },
     "execution_count": 74,
     "metadata": {},
     "output_type": "execute_result"
    }
   ],
   "source": [
    "# Generate top 10 movie recommendations for each user\n",
    "userRecs = model.recommendForAllUsers(10)\n",
    "userRecs.count()\n",
    "# Generate top 10 user recommendations for each movie\n",
    "palRecs = model.recommendForAllItems(10)\n",
    "palRecs.count()"
   ]
  },
  {
   "cell_type": "code",
   "execution_count": 75,
   "metadata": {},
   "outputs": [
    {
     "name": "stdout",
     "output_type": "stream",
     "text": [
      "+---+----------------------------------------------------------------------------------------------------------------------------------------------------------------------+\n",
      "|Esc|recommendations                                                                                                                                                       |\n",
      "+---+----------------------------------------------------------------------------------------------------------------------------------------------------------------------+\n",
      "|4  |[[15, 1.4960339], [16, 1.4924563], [1, 1.4892597], [17, 1.4890047], [7, 1.4854625], [11, 1.4772636], [4, 1.3845066], [12, 1.3435644], [13, 1.3321434], [5, 1.3315073]]|\n",
      "|8  |[[4, 1.5465734], [15, 1.5106524], [16, 1.4986949], [1, 1.4985219], [2, 1.4904319], [12, 1.489423], [10, 1.4798886], [11, 1.479352], [13, 1.4786276], [5, 1.432838]]   |\n",
      "+---+----------------------------------------------------------------------------------------------------------------------------------------------------------------------+\n",
      "\n",
      "+---+-----------------------------------+\n",
      "|IDP|recommendations                    |\n",
      "+---+-----------------------------------+\n",
      "|1  |[[8, 1.4985219], [4, 1.4892597]]   |\n",
      "|2  |[[8, 1.4904319], [4, 1.2895967]]   |\n",
      "|3  |[[8, 1.4138772], [4, 1.2892911]]   |\n",
      "|4  |[[8, 1.5465734], [4, 1.3845066]]   |\n",
      "|5  |[[8, 1.432838], [4, 1.3315073]]    |\n",
      "|6  |[[4, 1.3129271], [8, 1.0163343]]   |\n",
      "|7  |[[4, 1.4854625], [8, 1.3396488]]   |\n",
      "|8  |[[8, 0.96267766], [4, 0.054617774]]|\n",
      "|9  |[[8, 1.3336015], [4, 1.3281118]]   |\n",
      "|10 |[[8, 1.4798886], [4, 1.0231211]]   |\n",
      "|11 |[[8, 1.479352], [4, 1.4772636]]    |\n",
      "|12 |[[8, 1.489423], [4, 1.3435644]]    |\n",
      "|13 |[[8, 1.4786276], [4, 1.3321434]]   |\n",
      "|14 |[[8, 1.3206941], [4, 1.0145594]]   |\n",
      "|15 |[[8, 1.5106524], [4, 1.4960339]]   |\n",
      "|16 |[[8, 1.4986949], [4, 1.4924563]]   |\n",
      "|17 |[[4, 1.4890047], [8, 1.3370636]]   |\n",
      "+---+-----------------------------------+\n",
      "\n"
     ]
    }
   ],
   "source": [
    "userRecs.orderBy('Esc').show(truncate = False)\n",
    "palRecs.orderBy('IDP').show(truncate = False)"
   ]
  },
  {
   "cell_type": "code",
   "execution_count": null,
   "metadata": {},
   "outputs": [],
   "source": [
    "'Modelo de Clasificación según sentimientos por Grado, en base a palabras'"
   ]
  },
  {
   "cell_type": "code",
   "execution_count": 88,
   "metadata": {},
   "outputs": [],
   "source": [
    "ratings = (df\n",
    "    .select(\n",
    "        'Gra',\n",
    "        'IDP',\n",
    "        'SFBool',\n",
    "    )\n",
    ").filter('Esc = 8').cache()\n",
    "\n",
    "(training, test) = ratings.randomSplit([0.8, 0.2])"
   ]
  },
  {
   "cell_type": "code",
   "execution_count": 89,
   "metadata": {},
   "outputs": [
    {
     "name": "stdout",
     "output_type": "stream",
     "text": [
      "Root-mean-square error = 0.2487545339395933\n"
     ]
    }
   ],
   "source": [
    "# Build the recommendation model using ALS on the training data\n",
    "# Note we set cold start strategy to 'drop' to ensure we don't get NaN evaluation metrics\n",
    "als = ALS(rank=10, maxIter=2, regParam=0.01, \n",
    "          userCol=\"Gra\", itemCol=\"IDP\", ratingCol=\"SFBool\",\n",
    "          coldStartStrategy=\"drop\",\n",
    "          implicitPrefs=True)\n",
    "model = als.fit(training)\n",
    "\n",
    "# Evaluate the model by computing the RMSE on the test data\n",
    "predictions = model.transform(test)\n",
    "evaluator = RegressionEvaluator(metricName=\"rmse\", labelCol=\"SFBool\",\n",
    "                                predictionCol=\"prediction\")\n",
    "\n",
    "rmse = evaluator.evaluate(predictions)\n",
    "print(\"Root-mean-square error = \" + str(rmse))"
   ]
  },
  {
   "cell_type": "code",
   "execution_count": 90,
   "metadata": {},
   "outputs": [
    {
     "data": {
      "text/plain": [
       "17"
      ]
     },
     "execution_count": 90,
     "metadata": {},
     "output_type": "execute_result"
    }
   ],
   "source": [
    "# Generate top 10 movie recommendations for each user\n",
    "userRecs = model.recommendForAllUsers(10)\n",
    "userRecs.count()\n",
    "# Generate top 10 user recommendations for each movie\n",
    "palRecs = model.recommendForAllItems(10)\n",
    "palRecs.count()"
   ]
  },
  {
   "cell_type": "code",
   "execution_count": 91,
   "metadata": {},
   "outputs": [
    {
     "name": "stdout",
     "output_type": "stream",
     "text": [
      "+---+-------------------------------------------------------------------------------------------------------------------------------------------------------------------+\n",
      "|Gra|recommendations                                                                                                                                                    |\n",
      "+---+-------------------------------------------------------------------------------------------------------------------------------------------------------------------+\n",
      "|2  |[[4, 1.546942], [15, 1.5123147], [6, 1.5000292], [1, 1.4994777], [12, 1.4964045], [8, 1.494771], [2, 1.4879663], [13, 1.4863079], [11, 1.4710009], [17, 1.4583882]]|\n",
      "|3  |[[15, 1.51473], [4, 1.5046874], [6, 1.4999218], [12, 1.498362], [1, 1.4946713], [8, 1.4946603], [13, 1.4904047], [10, 1.4891322], [7, 1.4891322], [16, 1.4629638]] |\n",
      "+---+-------------------------------------------------------------------------------------------------------------------------------------------------------------------+\n",
      "\n",
      "+---+--------------------------------+\n",
      "|IDP|recommendations                 |\n",
      "+---+--------------------------------+\n",
      "|1  |[[2, 1.4994777], [3, 1.4946713]]|\n",
      "|2  |[[2, 1.4879663], [3, 1.3393097]]|\n",
      "|3  |[[2, 1.3894053], [3, 1.0364655]]|\n",
      "|4  |[[2, 1.546942], [3, 1.5046874]] |\n",
      "|5  |[[2, 1.4330494], [3, 1.3405764]]|\n",
      "|6  |[[2, 1.5000292], [3, 1.4999218]]|\n",
      "|7  |[[3, 1.4891322], [2, 1.3468924]]|\n",
      "|8  |[[2, 1.494771], [3, 1.4946603]] |\n",
      "|9  |[[3, 1.4569757], [2, 1.041642]] |\n",
      "|10 |[[3, 1.4891322], [2, 1.3468924]]|\n",
      "|11 |[[2, 1.4710009], [3, 1.3410609]]|\n",
      "|12 |[[3, 1.498362], [2, 1.4964045]] |\n",
      "|13 |[[3, 1.4904047], [2, 1.4863079]]|\n",
      "|14 |[[3, 1.4610844], [2, 1.3439467]]|\n",
      "|15 |[[3, 1.51473], [2, 1.5123147]]  |\n",
      "|16 |[[3, 1.4629638], [2, 1.0422705]]|\n",
      "|17 |[[2, 1.4583882], [3, 1.0401777]]|\n",
      "+---+--------------------------------+\n",
      "\n"
     ]
    }
   ],
   "source": [
    "userRecs.orderBy('Gra').show(truncate = False)\n",
    "palRecs.orderBy('IDP').show(truncate = False)"
   ]
  },
  {
   "cell_type": "code",
   "execution_count": null,
   "metadata": {},
   "outputs": [],
   "source": []
  },
  {
   "cell_type": "code",
   "execution_count": 98,
   "metadata": {},
   "outputs": [],
   "source": [
    "ratings = (df\n",
    "    .select(\n",
    "        'IDI',\n",
    "        'IDP',\n",
    "        'SFBool',\n",
    "    )\n",
    ").filter('Esc = 8').cache()\n",
    "\n",
    "(training, test) = ratings.randomSplit([0.8, 0.2])"
   ]
  },
  {
   "cell_type": "code",
   "execution_count": 99,
   "metadata": {},
   "outputs": [
    {
     "name": "stdout",
     "output_type": "stream",
     "text": [
      "Root-mean-square error = 0.8165498445072347\n"
     ]
    }
   ],
   "source": [
    "# Build the recommendation model using ALS on the training data\n",
    "# Note we set cold start strategy to 'drop' to ensure we don't get NaN evaluation metrics\n",
    "als = ALS(rank=500, maxIter=2, regParam=0.01, \n",
    "          userCol=\"IDI\", itemCol=\"IDP\", ratingCol=\"SFBool\",\n",
    "          coldStartStrategy=\"drop\",\n",
    "          implicitPrefs=True)\n",
    "model = als.fit(training)\n",
    "\n",
    "# Evaluate the model by computing the RMSE on the test data\n",
    "predictions = model.transform(test)\n",
    "evaluator = RegressionEvaluator(metricName=\"rmse\", labelCol=\"SFBool\",\n",
    "                                predictionCol=\"prediction\")\n",
    "\n",
    "rmse = evaluator.evaluate(predictions)\n",
    "print(\"Root-mean-square error = \" + str(rmse))"
   ]
  },
  {
   "cell_type": "code",
   "execution_count": 100,
   "metadata": {},
   "outputs": [
    {
     "data": {
      "text/plain": [
       "17"
      ]
     },
     "execution_count": 100,
     "metadata": {},
     "output_type": "execute_result"
    }
   ],
   "source": [
    "# Generate top 10 movie recommendations for each user\n",
    "userRecs = model.recommendForAllUsers(10)\n",
    "userRecs.count()\n",
    "# Generate top 10 user recommendations for each movie\n",
    "palRecs = model.recommendForAllItems(10)\n",
    "palRecs.count()"
   ]
  },
  {
   "cell_type": "code",
   "execution_count": 101,
   "metadata": {},
   "outputs": [
    {
     "name": "stdout",
     "output_type": "stream",
     "text": [
      "+---+--------------------+\n",
      "|IDI|     recommendations|\n",
      "+---+--------------------+\n",
      "|  3|[[1, 0.99863064],...|\n",
      "| 10|[[16, 0.998956], ...|\n",
      "| 18|[[5, 1.3316139], ...|\n",
      "| 21|[[5, 0.9992255], ...|\n",
      "| 24|[[2, 0.9988625], ...|\n",
      "| 26|[[7, 1.3312584], ...|\n",
      "| 27|[[4, 0.99906373],...|\n",
      "| 32|[[10, 0.9989354],...|\n",
      "| 33|[[5, 0.9990322], ...|\n",
      "| 40|[[17, 1.3313593],...|\n",
      "| 43|[[12, 0.99832755]...|\n",
      "| 44|[[10, 0.9989354],...|\n",
      "| 51|[[12, 0.99851894]...|\n",
      "| 60|[[15, 0.99888945]...|\n",
      "| 69|[[10, 0.9989354],...|\n",
      "| 71|[[1, 0.99806035],...|\n",
      "| 78|[[6, 0.9988905], ...|\n",
      "| 81|[[10, 0.9989354],...|\n",
      "| 85|[[2, 0.9988183], ...|\n",
      "|105|[[12, 0.9990515],...|\n",
      "+---+--------------------+\n",
      "only showing top 20 rows\n",
      "\n",
      "+---+---------------------------------------------------------------------------------------------------------------------------------------------------------------------------------------------------------+\n",
      "|IDP|recommendations                                                                                                                                                                                          |\n",
      "+---+---------------------------------------------------------------------------------------------------------------------------------------------------------------------------------------------------------+\n",
      "|1  |[[293, 0.99863064], [3, 0.99863064], [402, 0.99863064], [71, 0.99806035], [43, 0.0019833872], [135, 7.97058E-4], [218, 7.97058E-4], [314, 4.0707216E-4], [498, 1.9719498E-4], [109, 1.9717007E-4]]       |\n",
      "|2  |[[24, 0.9988625], [604, 0.9988183], [310, 0.9988183], [85, 0.9988183], [272, 0.99794376], [440, 0.0019720923], [195, 7.417512E-4], [71, 4.1638687E-4], [233, 2.832907E-4], [183, 2.7518062E-4]]          |\n",
      "|3  |[[233, 1.2582397], [372, 0.9990026], [583, 0.99885654], [244, 0.9983763], [40, 0.0016272231], [205, 6.2132906E-4], [535, 6.11898E-4], [427, 6.11898E-4], [26, 2.1843705E-4], [556, 1.8285553E-4]]        |\n",
      "|4  |[[247, 1.33167], [27, 0.99906373], [141, 0.99906373], [537, 0.99906373], [43, 0.9975914], [71, 6.2273117E-4], [205, 4.422441E-4], [51, 3.9677817E-4], [135, 3.5718875E-4], [218, 3.5718875E-4]]          |\n",
      "|5  |[[18, 1.3316139], [21, 0.9992255], [448, 0.9990322], [33, 0.9990322], [124, 2.302751E-4], [24, 9.640714E-5], [85, 9.640271E-5], [310, 9.640271E-5], [604, 9.640271E-5], [205, 8.76477E-5]]               |\n",
      "|6  |[[597, 0.9988905], [254, 0.9988905], [165, 0.9988905], [78, 0.9988905], [205, 0.9979885], [26, 0.001745861], [388, 6.564362E-4], [244, 4.698541E-4], [40, 3.6405493E-4], [233, 2.48836E-4]]              |\n",
      "|7  |[[26, 1.3312584], [205, 1.3308775], [388, 0.99883723], [78, 6.563957E-4], [597, 6.563957E-4], [165, 6.563957E-4], [254, 6.563957E-4], [43, 2.2564083E-4], [556, 2.2460055E-4], [233, 2.064337E-4]]       |\n",
      "|8  |[[183, 0.99540997], [124, 7.0783735E-4], [247, 6.863104E-4], [26, 5.0945603E-4], [71, 3.9221102E-4], [205, 3.795731E-4], [24, 2.742041E-4], [85, 2.7418046E-4], [310, 2.7418046E-4], [604, 2.7418046E-4]]|\n",
      "|9  |[[135, 0.9984844], [218, 0.9984844], [71, 0.99777055], [43, 0.99688804], [247, 9.489199E-4], [293, 7.9693215E-4], [402, 7.9693215E-4], [3, 7.9693215E-4], [51, 6.863938E-4], [500, 5.348334E-4]]         |\n",
      "|10 |[[32, 0.9989354], [81, 0.9989354], [222, 0.9989354], [44, 0.9989354], [69, 0.9989354], [272, 6.668484E-4], [440, 3.690807E-4], [205, 2.3946166E-4], [26, 1.7552078E-4], [43, 1.4805747E-4]]              |\n",
      "|11 |[[498, 0.99881893], [109, 0.9987219], [601, 0.9987208], [314, 0.99789137], [71, 7.2094006E-4], [205, 5.8210175E-4], [51, 4.9113075E-4], [10, 4.0703046E-4], [478, 4.0703046E-4], [292, 4.0703046E-4]]    |\n",
      "|12 |[[500, 0.9990515], [105, 0.9990515], [513, 0.9990515], [146, 0.9990515], [51, 0.99851894], [43, 0.99832755], [71, 8.95313E-4], [247, 6.054598E-4], [135, 5.351319E-4], [218, 5.351319E-4]]               |\n",
      "|13 |[[124, 1.3263004], [485, 0.99880993], [499, 0.99878216], [247, 3.1116867E-4], [183, 2.6984946E-4], [18, 2.3096509E-4], [537, 1.1700537E-4], [141, 1.1700537E-4], [27, 1.1700537E-4], [40, 1.1066208E-4]] |\n",
      "|14 |[[440, 1.3312579], [272, 1.3309617], [195, 0.9989739], [24, 7.4168347E-4], [85, 7.4165454E-4], [310, 7.4165454E-4], [604, 7.4165454E-4], [40, 3.013481E-4], [26, 1.517593E-4], [81, 1.3868007E-4]]       |\n",
      "|15 |[[556, 1.3549894], [60, 0.99888945], [242, 0.99888945], [588, 0.9988749], [26, 2.2071722E-4], [233, 1.6982724E-4], [247, 1.2674122E-4], [388, 8.3085644E-5], [372, 6.760152E-5], [583, 6.759065E-5]]     |\n",
      "|16 |[[478, 0.998956], [10, 0.998956], [292, 0.998956], [314, 0.99832124], [51, 0.9983208], [43, 5.6039833E-4], [498, 4.0715415E-4], [109, 4.0712528E-4], [601, 4.071201E-4], [500, 4.0665077E-4]]            |\n",
      "|17 |[[40, 1.3313593], [535, 0.9988885], [427, 0.9988885], [244, 0.9983613], [233, 0.0015380725], [372, 6.119957E-4], [583, 6.119141E-4], [71, 3.751833E-4], [440, 3.0140462E-4], [135, 1.591919E-4]]         |\n",
      "+---+---------------------------------------------------------------------------------------------------------------------------------------------------------------------------------------------------------+\n",
      "\n"
     ]
    }
   ],
   "source": [
    "userRecs.orderBy('IDI').show()\n",
    "palRecs.orderBy('IDP').show(truncate = False)"
   ]
  },
  {
   "cell_type": "code",
   "execution_count": null,
   "metadata": {},
   "outputs": [],
   "source": []
  },
  {
   "cell_type": "code",
   "execution_count": null,
   "metadata": {},
   "outputs": [],
   "source": []
  }
 ],
 "metadata": {
  "kernelspec": {
   "display_name": "Python 3",
   "language": "python",
   "name": "python3"
  },
  "language_info": {
   "codemirror_mode": {
    "name": "ipython",
    "version": 3
   },
   "file_extension": ".py",
   "mimetype": "text/x-python",
   "name": "python",
   "nbconvert_exporter": "python",
   "pygments_lexer": "ipython3",
   "version": "3.7.6"
  }
 },
 "nbformat": 4,
 "nbformat_minor": 4
}
